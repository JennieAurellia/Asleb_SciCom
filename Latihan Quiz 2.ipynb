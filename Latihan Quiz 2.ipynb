{
  "cells": [
    {
      "cell_type": "markdown",
      "metadata": {
        "id": "view-in-github",
        "colab_type": "text"
      },
      "source": [
        "<a href=\"https://colab.research.google.com/github/JennieAurellia/Asleb_SciCom/blob/main/Latihan%20Quiz%202.ipynb\" target=\"_parent\"><img src=\"https://colab.research.google.com/assets/colab-badge.svg\" alt=\"Open In Colab\"/></a>"
      ]
    },
    {
      "cell_type": "code",
      "source": [
        "import numpy as np\n",
        "import matplotlib.pyplot as plt"
      ],
      "metadata": {
        "id": "WmF876mB6XYy"
      },
      "execution_count": 134,
      "outputs": []
    },
    {
      "cell_type": "markdown",
      "source": [
        "# Gauss Seidel"
      ],
      "metadata": {
        "id": "Xuj8cHYYiZtn"
      }
    },
    {
      "cell_type": "code",
      "source": [
        "def gauss_seidel(x, y, tol=0.096, iter=8):\n",
        "  x = np.array(x)\n",
        "  y = np.array(y)\n",
        "\n",
        "  real_diag = np.array(np.diag(x))\n",
        "  diag = np.array(np.diag(np.abs(x)))\n",
        "  np.fill_diagonal(x,0)\n",
        "  off_diag = np.sum(np.abs(x), axis=1)\n",
        "\n",
        "  if not np.all(diag > off_diag):\n",
        "    print('Not diagonally dominant')\n",
        "    return False\n",
        "\n",
        "  x = -x\n",
        "  old = np.zeros(np.size(x[0]))\n",
        "\n",
        "  for i in range(iter):\n",
        "    new = np.array(old)\n",
        "\n",
        "    for idx, row in enumerate(x):\n",
        "      new[idx] = (y[idx] + np.dot(row, new)) / real_diag[idx]\n",
        "    print(f'Iter #{i+1}: {new}')\n",
        "\n",
        "    dx = np.sqrt(np.dot(new-old, new-old))\n",
        "\n",
        "    if dx < tol:\n",
        "      print('Convergen')\n",
        "      return\n",
        "\n",
        "    old = new\n",
        "\n",
        "  print('Not Convergen')\n",
        "  return"
      ],
      "metadata": {
        "id": "YgyUblY06hub"
      },
      "execution_count": 135,
      "outputs": []
    },
    {
      "cell_type": "code",
      "source": [
        "Xs = [\n",
        "    [\n",
        "        [10, 2, 1],\n",
        "        [1, -8, 2],\n",
        "        [2, 3, -9]\n",
        "    ],\n",
        "    [\n",
        "        [-12, 2, -3],\n",
        "        [3, 9, 1],\n",
        "        [-2, 1, 10]\n",
        "    ],\n",
        "    [\n",
        "\n",
        "        [11, -1, 3],\n",
        "        [2, 7, -2],\n",
        "        [3, 2, 9]\n",
        "    ],\n",
        "    [\n",
        "        [-10, 5, 1],\n",
        "        [-4, 11, -3],\n",
        "        [-2, 3, -8]\n",
        "    ],\n",
        "    [\n",
        "        [8, 1, -2],\n",
        "        [-3, 10, 2],\n",
        "        [-1, -2, 9]\n",
        "    ]\n",
        "]\n",
        "\n",
        "Ys = [\n",
        "    [40, 1150, 18],\n",
        "    [25, -10, 15],\n",
        "    [30, -10, 12],\n",
        "    [80, -700, 140],\n",
        "    [15, 10, -5]\n",
        "]\n"
      ],
      "metadata": {
        "id": "5nGDJsCa8TYz"
      },
      "execution_count": 136,
      "outputs": []
    },
    {
      "cell_type": "code",
      "source": [
        "for i, (x,y) in enumerate(zip(Xs, Ys)):\n",
        "  print(f'Equation #{i+1}:')\n",
        "  gauss_seidel(x, y)\n",
        "  print()"
      ],
      "metadata": {
        "id": "pf-H19-S8g4H",
        "outputId": "85cad01d-fe94-4f74-cdc1-ba20ae29641d",
        "colab": {
          "base_uri": "https://localhost:8080/"
        }
      },
      "execution_count": 137,
      "outputs": [
        {
          "output_type": "stream",
          "name": "stdout",
          "text": [
            "Equation #1:\n",
            "Iter #1: [   4.         -143.25        -48.86111111]\n",
            "Iter #2: [  37.53611111 -151.27326389  -44.08306327]\n",
            "Iter #3: [  38.6629591  -149.93789593  -43.38752995]\n",
            "Iter #4: [  38.32633218 -149.80609097  -43.41840095]\n",
            "Iter #5: [  38.30305829 -149.81671795  -43.42711525]\n",
            "Convergen\n",
            "\n",
            "Equation #2:\n",
            "Iter #1: [-2.08333333 -0.41666667  1.125     ]\n",
            "Iter #2: [-2.43402778 -0.42476852  1.0556713 ]\n",
            "Iter #3: [-2.41804591 -0.42239262  1.05863008]\n",
            "Convergen\n",
            "\n",
            "Equation #3:\n",
            "Iter #1: [ 2.72727273 -2.20779221  0.91486291]\n",
            "Iter #2: [ 2.27705628 -1.81776953  0.97826336]\n",
            "Iter #3: [ 2.29522185 -1.80484528  0.96933611]\n",
            "Convergen\n",
            "\n",
            "Equation #4:\n",
            "Iter #1: [ -8.         -66.54545455 -40.45454545]\n",
            "Iter #2: [-45.31818182 -91.14876033 -40.35123967]\n",
            "Iter #3: [-57.60950413 -95.59015778 -38.94393313]\n",
            "Iter #4: [-59.6894722  -95.96269893 -38.56364405]\n",
            "Iter #5: [-59.83771387 -95.91288978 -38.5079052 ]\n",
            "Iter #6: [-59.80723541 -95.8866052  -38.5056681 ]\n",
            "Convergen\n",
            "\n",
            "Equation #5:\n",
            "Iter #1: [1.875  1.5625 0.    ]\n",
            "Iter #2: [ 1.6796875   1.50390625 -0.03472222]\n",
            "Iter #3: [ 1.67833116  1.51044379 -0.03342014]\n",
            "Convergen\n",
            "\n"
          ]
        }
      ]
    },
    {
      "cell_type": "markdown",
      "source": [
        "# Least Square Regression"
      ],
      "metadata": {
        "id": "tY-kvYRainp8"
      }
    },
    {
      "cell_type": "code",
      "source": [
        "x = [1.1, 1.3, 1.7, 2.0, 2.4, 2.9, 3.2, 3.4, 3.5, 3.7, 4.1, 4.3, 4.3, 4.4, 4.7, 5.1,\n",
        "        5.3, 5.5, 6.2, 6.3, 6.8, 7.3, 7.9, 8.4, 8.7, 9.2, 9.5, 9.8, 10.3, 10.7]\n",
        "\n",
        "y = [35010.0, 42500.0, 39800.0, 41050.0, 42100.0, 53200.0, 58700.0, 50200.0, 60500.0, 59000.0,\n",
        "        60100.0, 58000.0, 59500.0, 61000.0, 63000.0, 70500.0, 68200.0, 79000.0, 85000.0, 88000.0,\n",
        "        94000.0, 96500.0, 105000.0, 109000.0, 112000.0, 110000.0, 120000.0, 115000.0, 125000.0, 128000.0]\n",
        "\n",
        "x = np.array(x)\n",
        "y = np.array(y)\n",
        "\n",
        "X = np.vstack([x, np.ones(len(x))]).T\n",
        "alpha = np.dot(np.dot(np.linalg.inv(np.dot(X.T, X)), X.T), y)\n",
        "\n",
        "plt.plot(x, y, '.r')\n",
        "plt.plot(x, alpha[0]*x + alpha[1], 'b')\n",
        "plt.legend([\"Data points\", \"Least Square\"])\n",
        "plt.xlabel(\"x\")\n",
        "plt.ylabel(\"y\")\n",
        "plt.show"
      ],
      "metadata": {
        "id": "mS3QVrac9UzZ",
        "outputId": "765c7c36-0dc7-4117-9fd7-f69a7343bd5e",
        "colab": {
          "base_uri": "https://localhost:8080/",
          "height": 618
        }
      },
      "execution_count": 151,
      "outputs": [
        {
          "output_type": "execute_result",
          "data": {
            "text/plain": [
              "<function matplotlib.pyplot.show(close=None, block=None)>"
            ],
            "text/html": [
              "<div style=\"max-width:800px; border: 1px solid var(--colab-border-color);\"><style>\n",
              "      pre.function-repr-contents {\n",
              "        overflow-x: auto;\n",
              "        padding: 8px 12px;\n",
              "        max-height: 500px;\n",
              "      }\n",
              "\n",
              "      pre.function-repr-contents.function-repr-contents-collapsed {\n",
              "        cursor: pointer;\n",
              "        max-height: 100px;\n",
              "      }\n",
              "    </style>\n",
              "    <pre style=\"white-space: initial; background:\n",
              "         var(--colab-secondary-surface-color); padding: 8px 12px;\n",
              "         border-bottom: 1px solid var(--colab-border-color);\"><b>matplotlib.pyplot.show</b><br/>def show(*args, **kwargs) -&gt; None</pre><pre class=\"function-repr-contents function-repr-contents-collapsed\" style=\"\"><a class=\"filepath\" style=\"display:none\" href=\"#\">/usr/local/lib/python3.11/dist-packages/matplotlib/pyplot.py</a>Display all open figures.\n",
              "\n",
              "Parameters\n",
              "----------\n",
              "block : bool, optional\n",
              "    Whether to wait for all figures to be closed before returning.\n",
              "\n",
              "    If `True` block and run the GUI main loop until all figure windows\n",
              "    are closed.\n",
              "\n",
              "    If `False` ensure that all figure windows are displayed and return\n",
              "    immediately.  In this case, you are responsible for ensuring\n",
              "    that the event loop is running to have responsive figures.\n",
              "\n",
              "    Defaults to True in non-interactive mode and to False in interactive\n",
              "    mode (see `.pyplot.isinteractive`).\n",
              "\n",
              "See Also\n",
              "--------\n",
              "ion : Enable interactive mode, which shows / updates the figure after\n",
              "      every plotting command, so that calling ``show()`` is not necessary.\n",
              "ioff : Disable interactive mode.\n",
              "savefig : Save the figure to an image file instead of showing it on screen.\n",
              "\n",
              "Notes\n",
              "-----\n",
              "**Saving figures to file and showing a window at the same time**\n",
              "\n",
              "If you want an image file as well as a user interface window, use\n",
              "`.pyplot.savefig` before `.pyplot.show`. At the end of (a blocking)\n",
              "``show()`` the figure is closed and thus unregistered from pyplot. Calling\n",
              "`.pyplot.savefig` afterwards would save a new and thus empty figure. This\n",
              "limitation of command order does not apply if the show is non-blocking or\n",
              "if you keep a reference to the figure and use `.Figure.savefig`.\n",
              "\n",
              "**Auto-show in jupyter notebooks**\n",
              "\n",
              "The jupyter backends (activated via ``%matplotlib inline``,\n",
              "``%matplotlib notebook``, or ``%matplotlib widget``), call ``show()`` at\n",
              "the end of every cell by default. Thus, you usually don&#x27;t have to call it\n",
              "explicitly there.</pre>\n",
              "      <script>\n",
              "      if (google.colab.kernel.accessAllowed && google.colab.files && google.colab.files.view) {\n",
              "        for (const element of document.querySelectorAll('.filepath')) {\n",
              "          element.style.display = 'block'\n",
              "          element.onclick = (event) => {\n",
              "            event.preventDefault();\n",
              "            event.stopPropagation();\n",
              "            google.colab.files.view(element.textContent, 569);\n",
              "          };\n",
              "        }\n",
              "      }\n",
              "      for (const element of document.querySelectorAll('.function-repr-contents')) {\n",
              "        element.onclick = (event) => {\n",
              "          event.preventDefault();\n",
              "          event.stopPropagation();\n",
              "          element.classList.toggle('function-repr-contents-collapsed');\n",
              "        };\n",
              "      }\n",
              "      </script>\n",
              "      </div>"
            ]
          },
          "metadata": {},
          "execution_count": 151
        },
        {
          "output_type": "display_data",
          "data": {
            "text/plain": [
              "<Figure size 640x480 with 1 Axes>"
            ],
            "image/png": "[encoded data removed]"
          },
          "metadata": {}
        }
      ]
    },
    {
      "cell_type": "markdown",
      "source": [
        "# Reimann Integral"
      ],
      "metadata": {
        "id": "Hk69UrsUioIh"
      }
    },
    {
      "cell_type": "code",
      "source": [
        "def f(x):\n",
        "  return x**4 - 13*x**3 + 36"
      ],
      "metadata": {
        "id": "QURbEuq16jkC"
      },
      "execution_count": 139,
      "outputs": []
    },
    {
      "cell_type": "code",
      "source": [
        "a = -2\n",
        "b = 2\n",
        "n = 50\n",
        "lebar_kotak = (b-a)/(n-1)\n",
        "x = np.linspace(a, b, n)\n",
        "y = f(x)"
      ],
      "metadata": {
        "id": "lMXGtXLf-C4_"
      },
      "execution_count": 140,
      "outputs": []
    },
    {
      "cell_type": "code",
      "source": [
        "right_reimann = lebar_kotak * sum(y[:n-1])\n",
        "print(right_reimann)\n",
        "print()\n",
        "\n",
        "left_reimann = lebar_kotak * sum(y[1:])\n",
        "print(left_reimann)\n",
        "print()\n",
        "\n",
        "x_mid = (x[:n-1] + x[1:]) / 2\n",
        "y_mid = f(x_mid)\n",
        "midpoint = lebar_kotak * sum(y_mid)\n",
        "print(midpoint)\n",
        "print()\n",
        "\n",
        "sisi_sejajar = y[0] + 2*sum(y[1:n-1]) + y[n-1]\n",
        "trapezoid = lebar_kotak * sisi_sejajar /2\n",
        "print(trapezoid)"
      ],
      "metadata": {
        "id": "AB1tSJw2-VLa",
        "outputId": "b240ce41-83b7-4bd8-ce25-b95c0b4fb89f",
        "colab": {
          "base_uri": "https://localhost:8080/"
        }
      },
      "execution_count": 141,
      "outputs": [
        {
          "output_type": "stream",
          "name": "stdout",
          "text": [
            "165.3253307442876\n",
            "\n",
            "148.3457389075529\n",
            "\n",
            "156.7822348074114\n",
            "\n",
            "156.83553482592026\n"
          ]
        }
      ]
    },
    {
      "cell_type": "markdown",
      "source": [
        "# Newton Raphson"
      ],
      "metadata": {
        "id": "RKq_3REqiof9"
      }
    },
    {
      "cell_type": "code",
      "source": [
        "def f(x):\n",
        "  return 15*x**5 + 6*x**4 - 9\n",
        "\n",
        "def g(x):\n",
        "  return 75*x**4 + 24*x**3"
      ],
      "metadata": {
        "id": "o5xK-P_v_9qN"
      },
      "execution_count": 142,
      "outputs": []
    },
    {
      "cell_type": "code",
      "source": [
        "def newton_raphson(x0, tol=0.096, iter=25):\n",
        "  for i in range(iter):\n",
        "    x1 = x0 - (f(x0) / g(x0))\n",
        "\n",
        "    if(np.abs(f(x1)) < tol):\n",
        "      print(f'The root of equation is {x1}')\n",
        "      return\n",
        "\n",
        "    print(f'Iteration #{i+1}: new root = {x1} with result {f(x1)}')\n",
        "    x0 = x1"
      ],
      "metadata": {
        "id": "KEjK1rzwAN8Y"
      },
      "execution_count": 149,
      "outputs": []
    },
    {
      "cell_type": "code",
      "source": [
        "newton_raphson(3)"
      ],
      "metadata": {
        "id": "s1gGUuFOAWhE",
        "outputId": "60cfcef7-992c-437b-9edc-001bcdf3cc87",
        "colab": {
          "base_uri": "https://localhost:8080/"
        }
      },
      "execution_count": 150,
      "outputs": [
        {
          "output_type": "stream",
          "name": "stdout",
          "text": [
            "Iteration #1: new root = 2.3868808567603748 with result 1347.852461597219\n",
            "Iteration #2: new root = 1.898656178466907 with result 439.07486544949563\n",
            "Iteration #3: new root = 1.5131349231884295 with result 141.43451086983134\n",
            "Iteration #4: new root = 1.2161962706387888 with result 44.03957418227888\n",
            "Iteration #5: new root = 1.0037132952031504 with result 12.370189821891714\n",
            "Iteration #6: new root = 0.8804901927302695 with result 2.5442469253948037\n",
            "Iteration #7: new root = 0.839093484390474 with result 0.2137564342527316\n",
            "The root of equation is 0.8349314235732447\n"
          ]
        }
      ]
    }
  ],
  "metadata": {
    "colab": {
      "name": "Welcome To Colab",
      "toc_visible": true,
      "provenance": [],
      "include_colab_link": true
    },
    "kernelspec": {
      "display_name": "Python 3",
      "name": "python3"
    }
  },
  "nbformat": 4,
  "nbformat_minor": 0
}