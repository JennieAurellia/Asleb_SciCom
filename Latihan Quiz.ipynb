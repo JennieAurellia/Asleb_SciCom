{
  "cells": [
    {
      "cell_type": "markdown",
      "metadata": {
        "id": "view-in-github",
        "colab_type": "text"
      },
      "source": [
        "<a href=\"https://colab.research.google.com/github/JennieAurellia/Asleb_SciCom/blob/main/Latihan%20Quiz.ipynb\" target=\"_parent\"><img src=\"https://colab.research.google.com/assets/colab-badge.svg\" alt=\"Open In Colab\"/></a>"
      ]
    },
    {
      "cell_type": "code",
      "source": [
        "import numpy as np\n",
        "import matplotlib.pyplot as plt"
      ],
      "metadata": {
        "id": "WfkfGuDFizzP"
      },
      "execution_count": 77,
      "outputs": []
    },
    {
      "cell_type": "markdown",
      "source": [
        "# Gauss Seidel"
      ],
      "metadata": {
        "id": "Xuj8cHYYiZtn"
      }
    },
    {
      "cell_type": "code",
      "source": [
        "def gauss_seidel(x, y, tol=0.022, iter=15):\n",
        "  x = np.array(x)\n",
        "  y = np.array(y)\n",
        "\n",
        "  real_diag = np.array(np.diag(x))\n",
        "  diag = np.array(np.diag(np.abs(x)))\n",
        "  np.fill_diagonal(x,0)\n",
        "  off_diag = np.sum(np.abs(x), axis=1)\n",
        "\n",
        "  if not np.all(diag > off_diag):\n",
        "    print('Not diagonally dominant')\n",
        "    return False\n",
        "\n",
        "  x = -x\n",
        "  old = np.zeros(np.size(x[0]))\n",
        "\n",
        "  for i in range(iter):\n",
        "    new = np.array(old)\n",
        "\n",
        "    for idx, row in enumerate(x):\n",
        "      new[idx] = (y[idx] + np.dot(row, new)) / real_diag[idx]\n",
        "    print(f'Iteration {i+1} {new}')\n",
        "\n",
        "    dx = np.sqrt(np.dot(new-old, new-old))\n",
        "\n",
        "    if dx < tol:\n",
        "      print('Convergen')\n",
        "      return\n",
        "\n",
        "    old = new\n",
        "  print('Not convergen')\n",
        "  return"
      ],
      "metadata": {
        "id": "vPBsEH5Ai4Tz"
      },
      "execution_count": 97,
      "outputs": []
    },
    {
      "cell_type": "code",
      "source": [
        "Xs = [\n",
        " [\n",
        " [4, 2, -1],\n",
        " [1, -5, 2],\n",
        " [2, -1, -4]\n",
        " ],\n",
        " [\n",
        " [3, 4, 5],\n",
        " [-3, 7, -4],\n",
        " [1, -4, -2]\n",
        " ],\n",
        " [\n",
        " [9, -2, 3, 2],\n",
        " [2, 8, -2, 3],\n",
        " [-3, 2, 11, -4],\n",
        " [-2, 3, 2, 10]\n",
        " ]\n",
        "]\n",
        "Ys = [\n",
        " [41, -10, 1],\n",
        " [34, -32, 62],\n",
        " [55, -14, 12, -21]\n",
        "]"
      ],
      "metadata": {
        "id": "kmKRIIKx2teR"
      },
      "execution_count": 98,
      "outputs": []
    },
    {
      "cell_type": "code",
      "source": [
        "for i, (x,y) in enumerate(zip(Xs, Ys)):\n",
        "  print(f'A: {x}, y = {y}')\n",
        "  gauss_seidel(x, y)\n",
        "  print()"
      ],
      "metadata": {
        "id": "8eTA7CMx2uQP",
        "outputId": "aa80d45e-78a9-4339-f8ee-09e37f31f73a",
        "colab": {
          "base_uri": "https://localhost:8080/"
        }
      },
      "execution_count": 99,
      "outputs": [
        {
          "output_type": "stream",
          "name": "stdout",
          "text": [
            "A: [[4, 2, -1], [1, -5, 2], [2, -1, -4]], y = [41, -10, 1]\n",
            "Iteration 1 [10.25    4.05    3.8625]\n",
            "Iteration 2 [9.190625   5.383125   2.99953125]\n",
            "Iteration 3 [8.30832031 4.86147656 2.68879102]\n",
            "Iteration 4 [8.49145947 4.7738083  2.80227766]\n",
            "Iteration 5 [8.56366526 4.83364412 2.8234216 ]\n",
            "Iteration 6 [8.53903334 4.83717531 2.81022284]\n",
            "Iteration 7 [8.53396806 4.83088275 2.80926334]\n",
            "Convergen\n",
            "\n",
            "A: [[3, 4, 5], [-3, 7, -4], [1, -4, -2]], y = [34, -32, 62]\n",
            "Not diagonally dominant\n",
            "\n",
            "A: [[9, -2, 3, 2], [2, 8, -2, 3], [-3, 2, 11, -4], [-2, 3, 2, 10]], y = [55, -14, 12, -21]\n",
            "Iteration 1 [ 6.11111111 -3.27777778  3.35353535 -0.56515152]\n",
            "Iteration 2 [ 4.39046016 -1.79729938  2.40957938 -1.16463403]\n",
            "Iteration 3 [ 5.16732568 -2.00269881  2.44080351 -0.95388592]\n",
            "Iteration 4 [ 5.06444041 -2.04820201  2.49765287 -0.97218189]\n",
            "Iteration 5 [ 5.03944457 -2.02087972  2.47921505 -0.98169018]\n",
            "Iteration 6 [ 5.05377509 -2.02550619  2.48050699 -0.97769452]\n",
            "Convergen\n",
            "\n"
          ]
        }
      ]
    },
    {
      "cell_type": "markdown",
      "source": [
        "# Least Square Regression"
      ],
      "metadata": {
        "id": "tY-kvYRainp8"
      }
    },
    {
      "cell_type": "code",
      "source": [
        "x = [1.3604935458559992, 1.5853985257024064, 0.5679347497479994, 0.21802392874941856, 0.06206493009274472, 1.6038707575944073, 1.5373131133875226, 1.4259588903280196, 0.43245973529077086, 0.257850612191316, 0.8605233835228834, 1.2181914607549382, 1.685409170644646, 0.12380139845637994, 0.13435858737521222, 0.4033370073012925, 0.619722978580614, 1.8628033810771025, 0.40953337540132173, 0.30874442757643994, 1.6891968832960647, 1.4690587356094642, 1.0467612052854245, 1.9070607586182264, 0.3931032996568269, 1.5213063293089268, 0.6792243360513193, 1.0368081016233708, 0.6336032973174668, 0.374905103792015, 1.771763274305583, 1.1559028146600263, 0.17306906153876445, 0.40602786961550885, 1.9021950999201134, 0.7404956567184318, 0.9651727271458386, 1.9916255775351712, 0.2532403679742896, 1.2463066512639314, 1.241263902486962, 1.7213322132140918, 1.3414349017801748, 0.8749630082448829, 0.2365239274541533, 0.6619637276533039, 0.14776060842856809, 0.44702252616842086, 0.7825174342129761, 0.6568730252477795]\n",
        "y = [1.8860894486952637, 3.4538075220063913, 0.4326122937324488, -0.16109290897894835, 1.0258216227918515, 2.5614347377115334, 3.9711567124023173, 2.5050179041851806, 0.44187536608782496, 0.32763720038740907, 1.8914749598149787, 2.978721894531936, 2.5263464521598777, 1.2309986450932542, -0.0002015887018562701, 0.40845185338253454, 1.261882153097084, 2.890613004730457, 1.5142607191006958, 1.4558182978954157, 3.0535665102311498, 2.5305265858696826, 2.9943005644276735, 4.775595583754577, 0.2511451686187445, 2.662286088591588, 0.7013711036412655, 1.3574878178829441, 0.45879261586108844, 1.041383576988614, 3.2345537741888895, 2.9442588452869383, 0.32481178798514976, 0.5676922986388366, 4.6507103639541985, 1.9206250787747186, 2.0631617694637643, 4.718498033969695, 0.328918880734296, 2.5468066110409096, 2.56571088586923, 3.1028383540315225, 1.916718978555218, 1.9674896037631926, 0.20908513317900246, 1.3752289600324012, 0.21057773380247213, 1.1962232390302614, 0.7068252906124675, 1.428520921524234]\n",
        "\n",
        "x = np.array(x)\n",
        "y = np.array(y)\n",
        "\n",
        "X = np.vstack([x, np.ones(len(x))]).T\n",
        "alpha = np.dot(np.dot(np.linalg.inv(np.dot(X.T, X)), X.T), y)\n",
        "\n",
        "plt.plot(x, y, '.m')\n",
        "plt. plot(x, alpha[0]*x + alpha[1], 'c')\n",
        "plt.legend([\"x y coordinates\", \"Least Square Regression\"])\n",
        "plt.xlabel(\"x\")\n",
        "plt.ylabel(\"y\")\n",
        "plt.show"
      ],
      "metadata": {
        "id": "d1poPkP6sh_e",
        "outputId": "f9008416-9951-446b-b731-f293e351397e",
        "colab": {
          "base_uri": "https://localhost:8080/",
          "height": 622
        }
      },
      "execution_count": 101,
      "outputs": [
        {
          "output_type": "execute_result",
          "data": {
            "text/plain": [
              "<function matplotlib.pyplot.show(close=None, block=None)>"
            ],
            "text/html": [
              "<div style=\"max-width:800px; border: 1px solid var(--colab-border-color);\"><style>\n",
              "      pre.function-repr-contents {\n",
              "        overflow-x: auto;\n",
              "        padding: 8px 12px;\n",
              "        max-height: 500px;\n",
              "      }\n",
              "\n",
              "      pre.function-repr-contents.function-repr-contents-collapsed {\n",
              "        cursor: pointer;\n",
              "        max-height: 100px;\n",
              "      }\n",
              "    </style>\n",
              "    <pre style=\"white-space: initial; background:\n",
              "         var(--colab-secondary-surface-color); padding: 8px 12px;\n",
              "         border-bottom: 1px solid var(--colab-border-color);\"><b>matplotlib.pyplot.show</b><br/>def show(*args, **kwargs) -&gt; None</pre><pre class=\"function-repr-contents function-repr-contents-collapsed\" style=\"\"><a class=\"filepath\" style=\"display:none\" href=\"#\">/usr/local/lib/python3.11/dist-packages/matplotlib/pyplot.py</a>Display all open figures.\n",
              "\n",
              "Parameters\n",
              "----------\n",
              "block : bool, optional\n",
              "    Whether to wait for all figures to be closed before returning.\n",
              "\n",
              "    If `True` block and run the GUI main loop until all figure windows\n",
              "    are closed.\n",
              "\n",
              "    If `False` ensure that all figure windows are displayed and return\n",
              "    immediately.  In this case, you are responsible for ensuring\n",
              "    that the event loop is running to have responsive figures.\n",
              "\n",
              "    Defaults to True in non-interactive mode and to False in interactive\n",
              "    mode (see `.pyplot.isinteractive`).\n",
              "\n",
              "See Also\n",
              "--------\n",
              "ion : Enable interactive mode, which shows / updates the figure after\n",
              "      every plotting command, so that calling ``show()`` is not necessary.\n",
              "ioff : Disable interactive mode.\n",
              "savefig : Save the figure to an image file instead of showing it on screen.\n",
              "\n",
              "Notes\n",
              "-----\n",
              "**Saving figures to file and showing a window at the same time**\n",
              "\n",
              "If you want an image file as well as a user interface window, use\n",
              "`.pyplot.savefig` before `.pyplot.show`. At the end of (a blocking)\n",
              "``show()`` the figure is closed and thus unregistered from pyplot. Calling\n",
              "`.pyplot.savefig` afterwards would save a new and thus empty figure. This\n",
              "limitation of command order does not apply if the show is non-blocking or\n",
              "if you keep a reference to the figure and use `.Figure.savefig`.\n",
              "\n",
              "**Auto-show in jupyter notebooks**\n",
              "\n",
              "The jupyter backends (activated via ``%matplotlib inline``,\n",
              "``%matplotlib notebook``, or ``%matplotlib widget``), call ``show()`` at\n",
              "the end of every cell by default. Thus, you usually don&#x27;t have to call it\n",
              "explicitly there.</pre>\n",
              "      <script>\n",
              "      if (google.colab.kernel.accessAllowed && google.colab.files && google.colab.files.view) {\n",
              "        for (const element of document.querySelectorAll('.filepath')) {\n",
              "          element.style.display = 'block'\n",
              "          element.onclick = (event) => {\n",
              "            event.preventDefault();\n",
              "            event.stopPropagation();\n",
              "            google.colab.files.view(element.textContent, 569);\n",
              "          };\n",
              "        }\n",
              "      }\n",
              "      for (const element of document.querySelectorAll('.function-repr-contents')) {\n",
              "        element.onclick = (event) => {\n",
              "          event.preventDefault();\n",
              "          event.stopPropagation();\n",
              "          element.classList.toggle('function-repr-contents-collapsed');\n",
              "        };\n",
              "      }\n",
              "      </script>\n",
              "      </div>"
            ]
          },
          "metadata": {},
          "execution_count": 101
        },
        {
          "output_type": "display_data",
          "data": {
            "text/plain": [
              "<Figure size 640x480 with 1 Axes>"
            ],
            "image/png": "[encoded data removed]"
          },
          "metadata": {}
        }
      ]
    },
    {
      "cell_type": "markdown",
      "source": [
        "# Reimann Integral"
      ],
      "metadata": {
        "id": "Hk69UrsUioIh"
      }
    },
    {
      "cell_type": "code",
      "source": [
        "def f(x):\n",
        "  return 4*x**4 + 2*x**3 - 6*x\n",
        "\n",
        "def g(x):\n",
        "  return (np.sin(x))**2 + np.sin(x) + 2"
      ],
      "metadata": {
        "id": "M9aK-mrgi9oE"
      },
      "execution_count": 78,
      "outputs": []
    },
    {
      "cell_type": "code",
      "source": [
        "a = -3\n",
        "b = 3\n",
        "n = 30\n",
        "lebar_kotak = (b-a)/(n-1)\n",
        "x = np.linspace(a, b, n)\n",
        "y = f(x)"
      ],
      "metadata": {
        "id": "oRrRiHm1kTtZ"
      },
      "execution_count": 79,
      "outputs": []
    },
    {
      "cell_type": "code",
      "source": [
        "left_reimann = lebar_kotak * sum(y[:n-1])\n",
        "print(left_reimann)"
      ],
      "metadata": {
        "id": "lJEnzPockmTE",
        "outputId": "8814b278-5d7a-4535-cbf4-e7e30484af28",
        "colab": {
          "base_uri": "https://localhost:8080/"
        }
      },
      "execution_count": 80,
      "outputs": [
        {
          "output_type": "stream",
          "name": "stdout",
          "text": [
            "384.4323034267851\n"
          ]
        }
      ]
    },
    {
      "cell_type": "code",
      "source": [
        "right_reimann = lebar_kotak * sum(y[1:])\n",
        "print(right_reimann)"
      ],
      "metadata": {
        "id": "w8sZK4H5kxMU",
        "outputId": "0e492c13-b303-4830-b041-b90cb1a1a8c2",
        "colab": {
          "base_uri": "https://localhost:8080/"
        }
      },
      "execution_count": 81,
      "outputs": [
        {
          "output_type": "stream",
          "name": "stdout",
          "text": [
            "399.328855150923\n"
          ]
        }
      ]
    },
    {
      "cell_type": "code",
      "source": [
        "x_mid = (x[:n-1] + x[:1]) / 2\n",
        "y_mid = f(x_mid)\n",
        "\n",
        "midpoint = lebar_kotak * sum(y_mid)\n",
        "print(midpoint)"
      ],
      "metadata": {
        "id": "6OcEWAMdk3Y7",
        "outputId": "a35c5e4a-bae8-42d2-eb49-c69c1b9fa7e4",
        "colab": {
          "base_uri": "https://localhost:8080/"
        }
      },
      "execution_count": 82,
      "outputs": [
        {
          "output_type": "stream",
          "name": "stdout",
          "text": [
            "392.267209213877\n"
          ]
        }
      ]
    },
    {
      "cell_type": "code",
      "source": [
        "A = -np.pi\n",
        "B = 2*np.pi\n",
        "N = 27\n",
        "lebar_kotak = (B-A)/(N-1)\n",
        "X = np.linspace(A, B, N)\n",
        "Y = g(x)"
      ],
      "metadata": {
        "id": "HTKDUy9ZmyuS"
      },
      "execution_count": 83,
      "outputs": []
    },
    {
      "cell_type": "code",
      "source": [
        "sisi_sejajar = Y[0] + 2*sum(Y[1:n-1]) + Y[n-1]\n",
        "\n",
        "trapezoid = lebar_kotak * sisi_sejajar / 2\n",
        "print(trapezoid)"
      ],
      "metadata": {
        "id": "rrjWjQU9lBn8",
        "outputId": "6d0a4b1d-5044-4d27-db52-c1914d1cdfee",
        "colab": {
          "base_uri": "https://localhost:8080/"
        }
      },
      "execution_count": 84,
      "outputs": [
        {
          "output_type": "stream",
          "name": "stdout",
          "text": [
            "26.521902084952746\n"
          ]
        }
      ]
    },
    {
      "cell_type": "markdown",
      "source": [
        "# Newton Raphson"
      ],
      "metadata": {
        "id": "RKq_3REqiof9"
      }
    },
    {
      "cell_type": "code",
      "source": [
        "def f(x):\n",
        "  return x**6 + 2*x**2 - 3\n",
        "def g(x):\n",
        "  return 6*x**5 + 4*x"
      ],
      "metadata": {
        "id": "PtAnKiWwizSq"
      },
      "execution_count": 85,
      "outputs": []
    },
    {
      "cell_type": "code",
      "source": [
        "def newton_raphson(x0, tol=0.01, iter=15):\n",
        "  for i in range(iter):\n",
        "    x1 = x0 - (f(x0) / g(x0))\n",
        "\n",
        "    if(np.abs(f(x1)) < tol):\n",
        "      print(f'The root of equation is {x1}')\n",
        "      return\n",
        "\n",
        "    print(f'Iteration of {i+1}. new root = {x1}')\n",
        "    x0 = x1"
      ],
      "metadata": {
        "id": "NoK52anOq-cF"
      },
      "execution_count": 94,
      "outputs": []
    },
    {
      "cell_type": "code",
      "source": [
        "newton_raphson(4)"
      ],
      "metadata": {
        "id": "iyNokXY7r1JJ",
        "outputId": "4b850ae8-7c60-47a9-dbf2-caeff83b1371",
        "colab": {
          "base_uri": "https://localhost:8080/"
        }
      },
      "execution_count": 95,
      "outputs": [
        {
          "output_type": "stream",
          "name": "stdout",
          "text": [
            "Iteration of 1. new root = 3.330357142857143\n",
            "Iteration of 2. new root = 2.7705278067251076\n",
            "Iteration of 3. new root = 2.3014692834655897\n",
            "Iteration of 4. new root = 1.9076486911265778\n",
            "Iteration of 5. new root = 1.5780738506315775\n",
            "Iteration of 6. new root = 1.3101344278134677\n",
            "Iteration of 7. new root = 1.1168277838634215\n",
            "Iteration of 8. new root = 1.0204619280744585\n",
            "The root of equation is 1.0006965918207418\n"
          ]
        }
      ]
    }
  ],
  "metadata": {
    "colab": {
      "name": "Welcome To Colab",
      "toc_visible": true,
      "provenance": [],
      "include_colab_link": true
    },
    "kernelspec": {
      "display_name": "Python 3",
      "name": "python3"
    }
  },
  "nbformat": 4,
  "nbformat_minor": 0
}